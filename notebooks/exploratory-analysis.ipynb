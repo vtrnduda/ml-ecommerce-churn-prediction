{
 "cells": [
  {
   "cell_type": "markdown",
   "id": "28e22275-0e4c-4762-a3dd-4f7a6efe7fad",
   "metadata": {},
   "source": [
    "## Bibliotecas"
   ]
  },
  {
   "cell_type": "code",
   "execution_count": 1,
   "id": "6c1135e0-3d85-41cb-aa2b-93b5bf9f4c95",
   "metadata": {},
   "outputs": [],
   "source": [
    "import pandas as pd\n",
    "import numpy as np\n",
    "from matplotlib import pyplot as plt\n",
    "import seaborn as sns\n",
    "from IPython.display import Image\n",
    "from matplotlib.gridspec import GridSpec\n",
    "from sklearn.model_selection import train_test_split\n",
    "from sklearn.ensemble import RandomForestClassifier\n",
    "from sklearn.model_selection import GridSearchCV\n",
    "from sklearn.metrics import accuracy_score, ConfusionMatrixDisplay"
   ]
  },
  {
   "cell_type": "markdown",
   "id": "35140427-7ddf-4754-9751-61f7e92cba2e",
   "metadata": {},
   "source": [
    "## Extração Dataset"
   ]
  },
  {
   "cell_type": "code",
   "execution_count": 3,
   "id": "c88bc51e-d117-4c9e-a47a-0facd4960ca5",
   "metadata": {},
   "outputs": [],
   "source": [
    "filepath = '../data/raw/ecommerce-dataset.xlsx'\n",
    "df = pd.read_excel(filepath, sheet_name=\"E Comm\")"
   ]
  },
  {
   "cell_type": "code",
   "execution_count": null,
   "id": "03c8babf-08cb-41be-b065-24bb810affb1",
   "metadata": {},
   "outputs": [],
   "source": [
    "df.head()"
   ]
  },
  {
   "cell_type": "markdown",
   "id": "dc2d8a52-f7b5-4e9b-a4a0-c5ea18107e68",
   "metadata": {},
   "source": [
    "## Divisão Treino e Teste"
   ]
  },
  {
   "cell_type": "code",
   "execution_count": null,
   "id": "d57084a8-7f79-4024-815e-d5ba274f707e",
   "metadata": {},
   "outputs": [],
   "source": [
    "x = df.loc[:, ~df.columns.isin(['Churn', 'CustomerID'])]\n",
    "y = df[['Churn']]\n",
    "\n",
    "x_train, x_test, y_train, y_test = train_test_split(x, y, test_size=0.3)"
   ]
  },
  {
   "cell_type": "markdown",
   "id": "deaff664-d247-46bf-8783-34f79717c1b0",
   "metadata": {},
   "source": [
    "### Merge"
   ]
  },
  {
   "cell_type": "code",
   "execution_count": null,
   "id": "58bed840-6271-48b1-a21a-1eb92c6e1f76",
   "metadata": {},
   "outputs": [],
   "source": [
    "train = x_train.merge(y_train, left_index=True, right_index=True)\n",
    "test = x_test.merge(y_test, left_index=True, right_index=True)"
   ]
  },
  {
   "cell_type": "markdown",
   "id": "513c59c4-68d4-4411-814e-07b9f7867e46",
   "metadata": {},
   "source": [
    "## Análise Exploratória (EDA) E Preparação dos Dados\n"
   ]
  },
  {
   "cell_type": "code",
   "execution_count": null,
   "id": "66844d7c-8fa8-4048-91c6-dc8db0f1313b",
   "metadata": {},
   "outputs": [],
   "source": [
    "x_train.shape # VISUALIZAR QUANTAS LINHAS E COLUNAS"
   ]
  },
  {
   "cell_type": "code",
   "execution_count": null,
   "id": "9a7c0859-baa8-4c5e-80e3-075baf0edc8a",
   "metadata": {},
   "outputs": [],
   "source": [
    "y_train.shape # VISUALIZAR QUANTAS LINHAS E COLUNAS"
   ]
  },
  {
   "cell_type": "code",
   "execution_count": null,
   "id": "e0d0fd77-16e9-4f58-8194-92b381986049",
   "metadata": {},
   "outputs": [],
   "source": [
    "# VERIFICAR TIPO DOS DADOS\n",
    "pd.DataFrame({'train': x_train.dtypes, 'test': x_test.dtypes})"
   ]
  },
  {
   "cell_type": "code",
   "execution_count": null,
   "id": "79fed437-b5e8-4432-bf92-0d77432bb31f",
   "metadata": {},
   "outputs": [],
   "source": [
    "# calcula a proporção de dados nulos em relação a quantidade total dos dados\n",
    "pd.DataFrame ({'train': round(100*(x_train.isnull().sum()/x_train.count()), 2),\n",
    "              'test': round(100*(x_test.isnull().sum()/x_test.count()), 2)})"
   ]
  },
  {
   "cell_type": "markdown",
   "id": "d77f3ed7-32be-4f06-ad2a-832cd8041ce7",
   "metadata": {},
   "source": [
    "## Análise Individual das Features"
   ]
  },
  {
   "cell_type": "markdown",
   "id": "fc97d35e-45ca-4360-b303-aa1ee6e8b2a4",
   "metadata": {},
   "source": [
    "### Churn"
   ]
  },
  {
   "cell_type": "code",
   "execution_count": 11,
   "id": "144a78f9-3514-4869-8fb6-3ecf0d4fc00f",
   "metadata": {},
   "outputs": [
    {
     "data": {
      "text/plain": [
       "(Churn    0\n",
       " dtype: int64,\n",
       " Churn    0\n",
       " dtype: int64)"
      ]
     },
     "execution_count": 11,
     "metadata": {},
     "output_type": "execute_result"
    }
   ],
   "source": [
    "y_train.isnull().sum(), y_test.isnull().sum()"
   ]
  },
  {
   "cell_type": "code",
   "execution_count": 12,
   "id": "a5e6a524-c0fd-40e5-b1f8-3571848843d4",
   "metadata": {},
   "outputs": [
    {
     "data": {
      "text/plain": [
       "Churn\n",
       "0        3272\n",
       "1         669\n",
       "Name: count, dtype: int64"
      ]
     },
     "execution_count": 12,
     "metadata": {},
     "output_type": "execute_result"
    }
   ],
   "source": [
    "y_train.value_counts()"
   ]
  },
  {
   "cell_type": "code",
   "execution_count": 13,
   "id": "f66dcb4c-04dc-4002-adf9-6d626ee076d8",
   "metadata": {},
   "outputs": [
    {
     "data": {
      "image/png": "[encoded data removed]",
      "text/plain": [
       "<Figure size 1000x500 with 1 Axes>"
      ]
     },
     "metadata": {},
     "output_type": "display_data"
    }
   ],
   "source": [
    "plt.figure(figsize=(10,5))\n",
    "ax = sns.countplot(data=y_train, x='Churn')\n",
    "for p in ax.patches:\n",
    "    ax.annotate('{}'.format(p.get_height()), (p.get_x()+0.35, p.get_height()+50))\n",
    "plt.ylabel('Users')\n",
    "plt.show()"
   ]
  }
 ],
 "metadata": {
  "kernelspec": {
   "display_name": "Python 3 (ipykernel)",
   "language": "python",
   "name": "python3"
  },
  "language_info": {
   "codemirror_mode": {
    "name": "ipython",
    "version": 3
   },
   "file_extension": ".py",
   "mimetype": "text/x-python",
   "name": "python",
   "nbconvert_exporter": "python",
   "pygments_lexer": "ipython3",
   "version": "3.12.7"
  }
 },
 "nbformat": 4,
 "nbformat_minor": 5
}
